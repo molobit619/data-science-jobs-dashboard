{
 "cells": [
  {
   "cell_type": "code",
   "execution_count": null,
   "id": "accessory-consolidation",
   "metadata": {},
   "outputs": [],
   "source": [
    "import requests\n",
    "import pandas as pd\n",
    "import numpy as np\n",
    "import matplotlib.pyplot as plt\n",
    "import random\n",
    "import seaborn as sns\n",
    "%matplotlib inline\n",
    "import plotly.graph_objects as go\n",
    "import plotly.express as px"
   ]
  },
  {
   "cell_type": "code",
   "execution_count": null,
   "id": "advance-pakistan",
   "metadata": {},
   "outputs": [],
   "source": [
    "df = pd.read_csv('data/DS_Jobs.csv')\n",
    "df.head()"
   ]
  },
  {
   "cell_type": "code",
   "execution_count": null,
   "id": "distributed-sport",
   "metadata": {},
   "outputs": [
    {
     "name": "stdout",
     "output_type": "stream",
     "text": [
      "<class 'pandas.core.frame.DataFrame'>\n",
      "RangeIndex: 660 entries, 0 to 659\n",
      "Data columns (total 27 columns):\n",
      " #   Column             Non-Null Count  Dtype  \n",
      "---  ------             --------------  -----  \n",
      " 0   Job Title          660 non-null    object \n",
      " 1   Salary Estimate    660 non-null    object \n",
      " 2   Job Description    660 non-null    object \n",
      " 3   Rating             660 non-null    float64\n",
      " 4   Company Name       660 non-null    object \n",
      " 5   Location           660 non-null    object \n",
      " 6   Headquarters       660 non-null    object \n",
      " 7   Size               660 non-null    object \n",
      " 8   Type of ownership  660 non-null    object \n",
      " 9   Industry           660 non-null    object \n",
      " 10  Sector             660 non-null    object \n",
      " 11  Revenue            660 non-null    object \n",
      " 12  min_salary         660 non-null    int64  \n",
      " 13  max_salary         660 non-null    int64  \n",
      " 14  avg_salary         660 non-null    int64  \n",
      " 15  job_state          660 non-null    object \n",
      " 16  same_state         660 non-null    int64  \n",
      " 17  company_age        660 non-null    int64  \n",
      " 18  python             660 non-null    int64  \n",
      " 19  excel              660 non-null    int64  \n",
      " 20  hadoop             660 non-null    int64  \n",
      " 21  spark              660 non-null    int64  \n",
      " 22  aws                660 non-null    int64  \n",
      " 23  tableau            660 non-null    int64  \n",
      " 24  big_data           660 non-null    int64  \n",
      " 25  job_simp           660 non-null    object \n",
      " 26  seniority          660 non-null    object \n",
      "dtypes: float64(1), int64(12), object(14)\n",
      "memory usage: 139.3+ KB\n"
     ]
    }
   ],
   "source": [
    "df.info()"
   ]
  },
  {
   "cell_type": "code",
   "execution_count": null,
   "id": "animated-nickel",
   "metadata": {},
   "outputs": [],
   "source": [
    "df.job_state.value_counts()"
   ]
  },
  {
   "cell_type": "code",
   "execution_count": null,
   "id": "homeless-appendix",
   "metadata": {},
   "outputs": [],
   "source": [
    "fig, ax = plt.subplots(figsize=(10,10)) \n",
    "chart = sns.barplot(x=df.job_state.value_counts().index, y=df.job_state.value_counts())\n",
    "_=chart.set_xticklabels(chart.get_xticklabels(), rotation=45)"
   ]
  },
  {
   "cell_type": "code",
   "execution_count": null,
   "id": "partial-opera",
   "metadata": {},
   "outputs": [
    {
     "data": {
      "text/plain": [
       "<Figure size 432x288 with 0 Axes>"
      ]
     },
     "metadata": {},
     "output_type": "display_data"
    }
   ],
   "source": [
    "plt.savefig('./images/Job Locations simple bar chart.png')"
   ]
  },
  {
   "cell_type": "code",
   "execution_count": null,
   "id": "modern-cardiff",
   "metadata": {},
   "outputs": [],
   "source": [
    "import chart_studio\n",
    "\n",
    "chart_studio.tools.set_credentials_file(username='brittanyaylia', api_key='lh3Z7Svybmx1eDPXmqEc')\n",
    "\n",
    "import chart_studio.plotly as py\n",
    "import chart_studio.tools as tls"
   ]
  },
  {
   "cell_type": "code",
   "execution_count": null,
   "id": "flying-literacy",
   "metadata": {},
   "outputs": [],
   "source": [
    "df_1 = pd.read_csv('data/locations_ds.csv')\n",
    "df_1.head()"
   ]
  },
  {
   "cell_type": "code",
   "execution_count": null,
   "id": "athletic-technical",
   "metadata": {},
   "outputs": [],
   "source": [
    "px.set_mapbox_access_token(open(\".mapbox_token\").read())"
   ]
  },
  {
   "cell_type": "code",
   "execution_count": null,
   "id": "dangerous-might",
   "metadata": {},
   "outputs": [],
   "source": [
    "fig = px.scatter_mapbox(\n",
    "    df_1, lat=\"Lat\", lon=\"Long_\",\n",
    "    color=\"Postings\",\n",
    "    size=\"Postings\",\n",
    "    color_continuous_scale=px.colors.sequential.Jet,\n",
    "    size_max=40,\n",
    "    zoom=3, \n",
    "    center={\"lat\": 37.0902, \"lon\": -95.7129},              \n",
    "    hover_name='Location'\n",
    ")\n",
    "\n",
    "fig.update_layout(\n",
    "    title= 'Data Science Job Posting Locations in 2020')\n",
    "\n",
    "fig.show()"
   ]
  },
  {
   "cell_type": "code",
   "execution_count": null,
   "id": "bottom-appendix",
   "metadata": {},
   "outputs": [],
   "source": [
    "py.plot(fig, filename = 'data science job map', auto_open=True)"
   ]
  }
 ],
 "metadata": {
  "kernelspec": {
   "display_name": "Python [conda env:PythonData] *",
   "language": "python",
   "name": "conda-env-PythonData-py"
  },
  "language_info": {
   "codemirror_mode": {
    "name": "ipython",
    "version": 3
   },
   "file_extension": ".py",
   "mimetype": "text/x-python",
   "name": "python",
   "nbconvert_exporter": "python",
   "pygments_lexer": "ipython3",
   "version": "3.6.10"
  }
 },
 "nbformat": 4,
 "nbformat_minor": 5
}
