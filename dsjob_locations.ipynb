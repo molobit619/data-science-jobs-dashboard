{
 "cells": [
  {
   "cell_type": "code",
   "execution_count": 13,
   "id": "accessory-consolidation",
   "metadata": {},
   "outputs": [],
   "source": [
    "import requests\n",
    "import pandas as pd\n",
    "import numpy as np\n",
    "import matplotlib.pyplot as plt\n",
    "import random\n",
    "import seaborn as sns\n",
    "%matplotlib inline\n",
    "import plotly.graph_objects as go\n",
    "import plotly.express as px"
   ]
  },
  {
   "cell_type": "code",
   "execution_count": 14,
   "id": "advance-pakistan",
   "metadata": {},
   "outputs": [
    {
     "data": {
      "text/html": [
       "<div>\n",
       "<style scoped>\n",
       "    .dataframe tbody tr th:only-of-type {\n",
       "        vertical-align: middle;\n",
       "    }\n",
       "\n",
       "    .dataframe tbody tr th {\n",
       "        vertical-align: top;\n",
       "    }\n",
       "\n",
       "    .dataframe thead th {\n",
       "        text-align: right;\n",
       "    }\n",
       "</style>\n",
       "<table border=\"1\" class=\"dataframe\">\n",
       "  <thead>\n",
       "    <tr style=\"text-align: right;\">\n",
       "      <th></th>\n",
       "      <th>Job Title</th>\n",
       "      <th>Salary Estimate</th>\n",
       "      <th>Job Description</th>\n",
       "      <th>Rating</th>\n",
       "      <th>Company Name</th>\n",
       "      <th>Location</th>\n",
       "      <th>Headquarters</th>\n",
       "      <th>Size</th>\n",
       "      <th>Type of ownership</th>\n",
       "      <th>Industry</th>\n",
       "      <th>...</th>\n",
       "      <th>company_age</th>\n",
       "      <th>python</th>\n",
       "      <th>excel</th>\n",
       "      <th>hadoop</th>\n",
       "      <th>spark</th>\n",
       "      <th>aws</th>\n",
       "      <th>tableau</th>\n",
       "      <th>big_data</th>\n",
       "      <th>job_simp</th>\n",
       "      <th>seniority</th>\n",
       "    </tr>\n",
       "  </thead>\n",
       "  <tbody>\n",
       "    <tr>\n",
       "      <th>0</th>\n",
       "      <td>Sr Data Scientist</td>\n",
       "      <td>137-171</td>\n",
       "      <td>Description\\n\\nThe Senior Data Scientist is re...</td>\n",
       "      <td>3.1</td>\n",
       "      <td>Healthfirst</td>\n",
       "      <td>New York, NY</td>\n",
       "      <td>New York, NY</td>\n",
       "      <td>1001 to 5000 employees</td>\n",
       "      <td>Nonprofit Organization</td>\n",
       "      <td>Insurance Carriers</td>\n",
       "      <td>...</td>\n",
       "      <td>27</td>\n",
       "      <td>0</td>\n",
       "      <td>0</td>\n",
       "      <td>0</td>\n",
       "      <td>0</td>\n",
       "      <td>1</td>\n",
       "      <td>0</td>\n",
       "      <td>0</td>\n",
       "      <td>data scientist</td>\n",
       "      <td>senior</td>\n",
       "    </tr>\n",
       "    <tr>\n",
       "      <th>1</th>\n",
       "      <td>Data Scientist</td>\n",
       "      <td>137-171</td>\n",
       "      <td>Secure our Nation, Ignite your Future\\n\\nJoin ...</td>\n",
       "      <td>4.2</td>\n",
       "      <td>ManTech</td>\n",
       "      <td>Chantilly, VA</td>\n",
       "      <td>Herndon, VA</td>\n",
       "      <td>5001 to 10000 employees</td>\n",
       "      <td>Company - Public</td>\n",
       "      <td>Research &amp; Development</td>\n",
       "      <td>...</td>\n",
       "      <td>52</td>\n",
       "      <td>0</td>\n",
       "      <td>0</td>\n",
       "      <td>1</td>\n",
       "      <td>0</td>\n",
       "      <td>0</td>\n",
       "      <td>0</td>\n",
       "      <td>1</td>\n",
       "      <td>data scientist</td>\n",
       "      <td>na</td>\n",
       "    </tr>\n",
       "    <tr>\n",
       "      <th>2</th>\n",
       "      <td>Data Scientist</td>\n",
       "      <td>137-171</td>\n",
       "      <td>Overview\\n\\n\\nAnalysis Group is one of the lar...</td>\n",
       "      <td>3.8</td>\n",
       "      <td>Analysis Group</td>\n",
       "      <td>Boston, MA</td>\n",
       "      <td>Boston, MA</td>\n",
       "      <td>1001 to 5000 employees</td>\n",
       "      <td>Private Practice / Firm</td>\n",
       "      <td>Consulting</td>\n",
       "      <td>...</td>\n",
       "      <td>39</td>\n",
       "      <td>1</td>\n",
       "      <td>1</td>\n",
       "      <td>0</td>\n",
       "      <td>0</td>\n",
       "      <td>1</td>\n",
       "      <td>0</td>\n",
       "      <td>0</td>\n",
       "      <td>data scientist</td>\n",
       "      <td>na</td>\n",
       "    </tr>\n",
       "    <tr>\n",
       "      <th>3</th>\n",
       "      <td>Data Scientist</td>\n",
       "      <td>137-171</td>\n",
       "      <td>JOB DESCRIPTION:\\n\\nDo you have a passion for ...</td>\n",
       "      <td>3.5</td>\n",
       "      <td>INFICON</td>\n",
       "      <td>Newton, MA</td>\n",
       "      <td>Bad Ragaz, Switzerland</td>\n",
       "      <td>501 to 1000 employees</td>\n",
       "      <td>Company - Public</td>\n",
       "      <td>Electrical &amp; Electronic Manufacturing</td>\n",
       "      <td>...</td>\n",
       "      <td>20</td>\n",
       "      <td>1</td>\n",
       "      <td>1</td>\n",
       "      <td>0</td>\n",
       "      <td>0</td>\n",
       "      <td>1</td>\n",
       "      <td>0</td>\n",
       "      <td>0</td>\n",
       "      <td>data scientist</td>\n",
       "      <td>na</td>\n",
       "    </tr>\n",
       "    <tr>\n",
       "      <th>4</th>\n",
       "      <td>Data Scientist</td>\n",
       "      <td>137-171</td>\n",
       "      <td>Data Scientist\\nAffinity Solutions / Marketing...</td>\n",
       "      <td>2.9</td>\n",
       "      <td>Affinity Solutions</td>\n",
       "      <td>New York, NY</td>\n",
       "      <td>New York, NY</td>\n",
       "      <td>51 to 200 employees</td>\n",
       "      <td>Company - Private</td>\n",
       "      <td>Advertising &amp; Marketing</td>\n",
       "      <td>...</td>\n",
       "      <td>22</td>\n",
       "      <td>1</td>\n",
       "      <td>1</td>\n",
       "      <td>0</td>\n",
       "      <td>0</td>\n",
       "      <td>0</td>\n",
       "      <td>0</td>\n",
       "      <td>0</td>\n",
       "      <td>data scientist</td>\n",
       "      <td>na</td>\n",
       "    </tr>\n",
       "  </tbody>\n",
       "</table>\n",
       "<p>5 rows × 27 columns</p>\n",
       "</div>"
      ],
      "text/plain": [
       "           Job Title Salary Estimate  \\\n",
       "0  Sr Data Scientist        137-171    \n",
       "1     Data Scientist        137-171    \n",
       "2     Data Scientist        137-171    \n",
       "3     Data Scientist        137-171    \n",
       "4     Data Scientist        137-171    \n",
       "\n",
       "                                     Job Description  Rating  \\\n",
       "0  Description\\n\\nThe Senior Data Scientist is re...     3.1   \n",
       "1  Secure our Nation, Ignite your Future\\n\\nJoin ...     4.2   \n",
       "2  Overview\\n\\n\\nAnalysis Group is one of the lar...     3.8   \n",
       "3  JOB DESCRIPTION:\\n\\nDo you have a passion for ...     3.5   \n",
       "4  Data Scientist\\nAffinity Solutions / Marketing...     2.9   \n",
       "\n",
       "         Company Name       Location            Headquarters  \\\n",
       "0         Healthfirst   New York, NY            New York, NY   \n",
       "1             ManTech  Chantilly, VA             Herndon, VA   \n",
       "2      Analysis Group     Boston, MA              Boston, MA   \n",
       "3             INFICON     Newton, MA  Bad Ragaz, Switzerland   \n",
       "4  Affinity Solutions   New York, NY            New York, NY   \n",
       "\n",
       "                      Size        Type of ownership  \\\n",
       "0   1001 to 5000 employees   Nonprofit Organization   \n",
       "1  5001 to 10000 employees         Company - Public   \n",
       "2   1001 to 5000 employees  Private Practice / Firm   \n",
       "3    501 to 1000 employees         Company - Public   \n",
       "4      51 to 200 employees        Company - Private   \n",
       "\n",
       "                                Industry  ... company_age python  excel  \\\n",
       "0                     Insurance Carriers  ...          27      0      0   \n",
       "1                 Research & Development  ...          52      0      0   \n",
       "2                             Consulting  ...          39      1      1   \n",
       "3  Electrical & Electronic Manufacturing  ...          20      1      1   \n",
       "4                Advertising & Marketing  ...          22      1      1   \n",
       "\n",
       "   hadoop  spark aws  tableau  big_data        job_simp  seniority  \n",
       "0       0      0   1        0         0  data scientist     senior  \n",
       "1       1      0   0        0         1  data scientist         na  \n",
       "2       0      0   1        0         0  data scientist         na  \n",
       "3       0      0   1        0         0  data scientist         na  \n",
       "4       0      0   0        0         0  data scientist         na  \n",
       "\n",
       "[5 rows x 27 columns]"
      ]
     },
     "execution_count": 14,
     "metadata": {},
     "output_type": "execute_result"
    }
   ],
   "source": [
    "df = pd.read_csv('data/DS_Jobs.csv')\n",
    "df.head()"
   ]
  },
  {
   "cell_type": "code",
   "execution_count": 15,
   "id": "distributed-sport",
   "metadata": {},
   "outputs": [
    {
     "name": "stdout",
     "output_type": "stream",
     "text": [
      "<class 'pandas.core.frame.DataFrame'>\n",
      "RangeIndex: 660 entries, 0 to 659\n",
      "Data columns (total 27 columns):\n",
      " #   Column             Non-Null Count  Dtype  \n",
      "---  ------             --------------  -----  \n",
      " 0   Job Title          660 non-null    object \n",
      " 1   Salary Estimate    660 non-null    object \n",
      " 2   Job Description    660 non-null    object \n",
      " 3   Rating             660 non-null    float64\n",
      " 4   Company Name       660 non-null    object \n",
      " 5   Location           660 non-null    object \n",
      " 6   Headquarters       660 non-null    object \n",
      " 7   Size               660 non-null    object \n",
      " 8   Type of ownership  660 non-null    object \n",
      " 9   Industry           660 non-null    object \n",
      " 10  Sector             660 non-null    object \n",
      " 11  Revenue            660 non-null    object \n",
      " 12  min_salary         660 non-null    int64  \n",
      " 13  max_salary         660 non-null    int64  \n",
      " 14  avg_salary         660 non-null    int64  \n",
      " 15  job_state          660 non-null    object \n",
      " 16  same_state         660 non-null    int64  \n",
      " 17  company_age        660 non-null    int64  \n",
      " 18  python             660 non-null    int64  \n",
      " 19  excel              660 non-null    int64  \n",
      " 20  hadoop             660 non-null    int64  \n",
      " 21  spark              660 non-null    int64  \n",
      " 22  aws                660 non-null    int64  \n",
      " 23  tableau            660 non-null    int64  \n",
      " 24  big_data           660 non-null    int64  \n",
      " 25  job_simp           660 non-null    object \n",
      " 26  seniority          660 non-null    object \n",
      "dtypes: float64(1), int64(12), object(14)\n",
      "memory usage: 139.3+ KB\n"
     ]
    }
   ],
   "source": [
    "df.info()"
   ]
  },
  {
   "cell_type": "code",
   "execution_count": 16,
   "id": "animated-nickel",
   "metadata": {},
   "outputs": [
    {
     "data": {
      "text/plain": [
       " CA    165\n",
       " VA     89\n",
       " MA     62\n",
       " NY     52\n",
       " MD     40\n",
       " IL     30\n",
       " DC     26\n",
       " TX     17\n",
       " WA     16\n",
       " OH     14\n",
       " PA     12\n",
       " MO     12\n",
       "US      11\n",
       " CO     10\n",
       " NJ     10\n",
       " NC      9\n",
       " GA      9\n",
       " FL      8\n",
       " TN      8\n",
       " OK      6\n",
       " WI      6\n",
       " IN      5\n",
       " MI      5\n",
       " MN      4\n",
       " CT      4\n",
       " AL      4\n",
       " AZ      4\n",
       " NE      3\n",
       " IA      3\n",
       " UT      3\n",
       " RI      2\n",
       " NH      2\n",
       " OR      2\n",
       " SC      2\n",
       " WV      1\n",
       " MS      1\n",
       " KS      1\n",
       " LA      1\n",
       " DE      1\n",
       "Name: job_state, dtype: int64"
      ]
     },
     "execution_count": 16,
     "metadata": {},
     "output_type": "execute_result"
    }
   ],
   "source": [
    "df.job_state.value_counts()"
   ]
  },
  {
   "cell_type": "code",
   "execution_count": 17,
   "id": "homeless-appendix",
   "metadata": {},
   "outputs": [
    {
     "data": {
      "image/png": "[encoded data removed]",
      "text/plain": [
       "<Figure size 720x720 with 1 Axes>"
      ]
     },
     "metadata": {
      "needs_background": "light"
     },
     "output_type": "display_data"
    }
   ],
   "source": [
    "fig, ax = plt.subplots(figsize=(10,10)) \n",
    "chart = sns.barplot(x=df.job_state.value_counts().index, y=df.job_state.value_counts())\n",
    "_=chart.set_xticklabels(chart.get_xticklabels(), rotation=45)"
   ]
  },
  {
   "cell_type": "code",
   "execution_count": 18,
   "id": "partial-opera",
   "metadata": {},
   "outputs": [
    {
     "data": {
      "text/plain": [
       "<Figure size 432x288 with 0 Axes>"
      ]
     },
     "metadata": {},
     "output_type": "display_data"
    }
   ],
   "source": [
    "plt.savefig('./images/Job Locations simple bar chart.png')"
   ]
  },
  {
   "cell_type": "code",
   "execution_count": 27,
   "id": "modern-cardiff",
   "metadata": {},
   "outputs": [],
   "source": [
    "import chart_studio\n",
    "\n",
    "chart_studio.tools.set_credentials_file(username='brittanyaylia', api_key='lh3Z7Svybmx1eDPXmqEc')\n",
    "\n",
    "import chart_studio.plotly as py\n",
    "import chart_studio.tools as tls"
   ]
  },
  {
   "cell_type": "code",
   "execution_count": 28,
   "id": "flying-literacy",
   "metadata": {},
   "outputs": [
    {
     "data": {
      "text/html": [
       "<div>\n",
       "<style scoped>\n",
       "    .dataframe tbody tr th:only-of-type {\n",
       "        vertical-align: middle;\n",
       "    }\n",
       "\n",
       "    .dataframe tbody tr th {\n",
       "        vertical-align: top;\n",
       "    }\n",
       "\n",
       "    .dataframe thead th {\n",
       "        text-align: right;\n",
       "    }\n",
       "</style>\n",
       "<table border=\"1\" class=\"dataframe\">\n",
       "  <thead>\n",
       "    <tr style=\"text-align: right;\">\n",
       "      <th></th>\n",
       "      <th>Location</th>\n",
       "      <th>Lat</th>\n",
       "      <th>Long_</th>\n",
       "      <th>Postings</th>\n",
       "    </tr>\n",
       "  </thead>\n",
       "  <tbody>\n",
       "    <tr>\n",
       "      <th>0</th>\n",
       "      <td>New York, NY</td>\n",
       "      <td>40.730610</td>\n",
       "      <td>-73.935242</td>\n",
       "      <td>46</td>\n",
       "    </tr>\n",
       "    <tr>\n",
       "      <th>1</th>\n",
       "      <td>San Francisco, CA</td>\n",
       "      <td>37.774929</td>\n",
       "      <td>-122.419418</td>\n",
       "      <td>45</td>\n",
       "    </tr>\n",
       "    <tr>\n",
       "      <th>2</th>\n",
       "      <td>Boston, MA</td>\n",
       "      <td>42.360081</td>\n",
       "      <td>-71.058884</td>\n",
       "      <td>24</td>\n",
       "    </tr>\n",
       "    <tr>\n",
       "      <th>3</th>\n",
       "      <td>Washington, DC</td>\n",
       "      <td>38.907192</td>\n",
       "      <td>-77.036873</td>\n",
       "      <td>22</td>\n",
       "    </tr>\n",
       "    <tr>\n",
       "      <th>4</th>\n",
       "      <td>Herndon, VA</td>\n",
       "      <td>38.969555</td>\n",
       "      <td>-77.386101</td>\n",
       "      <td>21</td>\n",
       "    </tr>\n",
       "  </tbody>\n",
       "</table>\n",
       "</div>"
      ],
      "text/plain": [
       "            Location        Lat       Long_  Postings\n",
       "0       New York, NY  40.730610  -73.935242        46\n",
       "1  San Francisco, CA  37.774929 -122.419418        45\n",
       "2         Boston, MA  42.360081  -71.058884        24\n",
       "3     Washington, DC  38.907192  -77.036873        22\n",
       "4        Herndon, VA  38.969555  -77.386101        21"
      ]
     },
     "execution_count": 28,
     "metadata": {},
     "output_type": "execute_result"
    }
   ],
   "source": [
    "df_1 = pd.read_csv('data/locations_ds.csv')\n",
    "df_1.head()"
   ]
  },
  {
   "cell_type": "code",
   "execution_count": 29,
   "id": "athletic-technical",
   "metadata": {},
   "outputs": [],
   "source": [
    "px.set_mapbox_access_token(open(\".mapbox_token\").read())"
   ]
  },
  {
   "cell_type": "code",
   "execution_count": 30,
   "id": "dangerous-might",
   "metadata": {},
   "outputs": [
    {
     "data": {
      "application/vnd.plotly.v1+json": {
       "config": {
        "plotlyServerURL": "https://plotly.com"
       },
       "data": [
        {
         "hovertemplate": "<b>%{hovertext}</b><br><br>Postings=%{marker.color}<br>Lat=%{lat}<br>Long_=%{lon}<extra></extra>",
         "hovertext": [
          "New York, NY",
          "San Francisco, CA",
          "Boston, MA",
          "Washington, DC",
          "Herndon, VA",
          "Chicago, IL",
          "Cambridge, MA",
          "McLean, VA",
          "Chantilly, VA",
          "Saint Louis, MO",
          "Atlanta, GA",
          "San Diego, CA",
          "Reston, VA",
          "Gaithersburg, MD",
          "Santa Clara, CA",
          "Redwood City, CA",
          "Annapolis Junction, MD",
          "Denver, CO",
          "Baltimore, MD",
          "Falls Church, VA",
          "Seattle, WA",
          "Fort Belvoir, VA",
          "Alexandria, VA",
          "Plano, TX",
          "San Jose, CA",
          "Thousand Oaks, CA",
          "Palo Alto, CA",
          "Bethesda, MD",
          "Raleigh, NC",
          "Bellevue, WA",
          "Oklahoma City, OK",
          "South San Francisco, CA",
          "Cincinnati, OH",
          "Maple Plain, MN",
          "Sunnyvale, CA",
          "Fort Worth, TX",
          "Winter Park, FL",
          "Pittsburgh, PA",
          "Richland, WA",
          "Austin, TX",
          "Orlando, FL",
          "Nashville, TN",
          "Merrifield, VA",
          "Woburn, MA",
          "Cupertino, CA",
          "Newton, MA",
          "Carson, CA",
          "Bedford, MA",
          "Santa Barbara, CA",
          "Memphis, TN",
          "Cedar Rapids, IA",
          "Arlington, VA",
          "Laurel, MD",
          "Hartford, CT",
          "Northbrook, IL",
          "Dayton, OH",
          "Durham, NC",
          "Lexington Park, MD",
          "Irvine, CA",
          "Oak Ridge, TN",
          "Hampton, VA",
          "Columbia, MD",
          "San Clemente, CA",
          "Kent, OH",
          "Scotts Valley, CA",
          "Phoenix, AZ",
          "Waltham, MA",
          "Rockville, MD",
          "Emeryville, CA",
          "Lehi, UT",
          "Alpharetta, GA",
          "Chandler, AZ",
          "Livermore, CA",
          "Sheboygan, WI",
          "Indianapolis, IN",
          "Bothell, WA",
          "Concord, CA",
          "Santa Monica, CA",
          "San Carlos, CA",
          "Winston-Salem, NC",
          "Springfield, VA",
          "Lexington, MA",
          "Fairfax, VA",
          "The Woodlands, TX",
          "Oakland, CA",
          "Longmont, CO",
          "Philadelphia, PA",
          "Richmond, VA",
          "Ann Arbor, MI",
          "Vienna, VA",
          "Tulsa, OK",
          "Adelphi, MD",
          "Smithfield, RI",
          "Santa Cruz, CA",
          "Southfield, MI",
          "Huntsville, AL",
          "Kansas City, MO",
          "New Bedford, MA",
          "Woodbridge, NJ",
          "Oshkosh, WI",
          "Culver City, CA",
          "Timonium, MD",
          "Beavercreek, OH",
          "Madison, WI",
          "Omaha, NE",
          "Houston, TX",
          "Columbia, MO",
          "Blue Bell, PA",
          "Fort Meade, MD",
          "Aurora, CO",
          "Portland, OR",
          "Peoria, IL",
          "Monroe, WI",
          "Lebanon, IN",
          "San Mateo, CA",
          "Silver Spring, MD",
          "Melbourne, FL",
          "Norwell, MA",
          "Monterey, CA",
          "Lincoln, NE",
          "Wilmington, DE",
          "New Orleans, LA",
          "Patuxent, Anne Arundel, MD",
          "Carpinteria, CA",
          "Fort Wayne, IN",
          "Mountain View, CA",
          "Piscataway, NJ",
          "Cleveland, OH",
          "Sacramento, CA",
          "Norfolk, VA",
          "Jersey City, NJ",
          "Open Fork, VA",
          "Oxnard, CA",
          "Bridgeport, WV",
          "San Antonio, TX",
          "Burbank, CA",
          "Pleasanton, CA",
          "Minneapolis, MN",
          "San Ramon, CA",
          "Dearborn, MI",
          "Ipswich, MA",
          "Boulder, CO",
          "Spartanburg, SC",
          "Woodlawn, MD",
          "Burlingame, CA",
          "Wellesley, MA",
          "Appleton, WI",
          "Portsmouth, NH",
          "Foster City, CA",
          "Harrisburg, PA",
          "Vicksburg, MS",
          "Winters, TX",
          "Hill AFB, UT",
          "Hoboken, NJ",
          "Oakville, CA",
          "Hamilton, NJ",
          "Akron, OH",
          "Schaumburg, IL",
          "Overland Park, KS",
          "Carmel, IN",
          "Rancho Cucamonga, CA",
          "Edison, NJ",
          "Simi Valley, CA",
          "Coral Gables, FL",
          "Columbia, SC",
          "Dallas, TX",
          "Lake Oswego, OR",
          "Lombard, IL",
          "Linthicum Heights, MD",
          "Yakima, WA",
          "Holyoke, MA",
          "Menlo Park, CA",
          "Germantown, MD",
          "Fremont, CA",
          "Charlotte, NC",
          "Fort Lee, NJ",
          "West Chester, PA",
          "Champaign, IL",
          "Brisbane, CA",
          "Manchester, NH",
          "Danvers, MA",
          "West Grove, PA",
          "Naperville, IL",
          "Collegeville, PA",
          "Orange, CA",
          "Trumbull, CT",
          "Colorado Springs, CO",
          "Frederick, MD",
          "Maryland Heights, MO"
         ],
         "lat": [
          40.73061,
          37.774929,
          42.360081,
          38.907191999999995,
          38.969555,
          40.741895,
          42.3750997,
          38.9342888,
          38.88668,
          38.6264178,
          33.7489924,
          32.7174202,
          38.961459999999995,
          39.143440600000005,
          37.2333253,
          37.4863239,
          38.9786401,
          39.7392364,
          39.2908816,
          38.882334,
          47.6038321,
          38.7282122,
          38.8051095,
          33.013676399999994,
          37.3361905,
          34.1714271,
          37.44432929999999,
          38.9843774,
          35.7803977,
          47.614421899999996,
          35.4729886,
          37.65584183,
          39.1014537,
          45.0071851,
          37.368830100000004,
          32.753177,
          28.597770699999998,
          40.4416941,
          46.28042979999999,
          30.2711286,
          28.5421109,
          36.16227670000001,
          38.873861,
          42.479261799999996,
          37.3228934,
          42.3370414,
          33.832204299999994,
          42.491730100000005,
          34.4221319,
          35.1490215,
          41.9758872,
          38.890396100000004,
          39.10441229999999,
          41.76555820000001,
          42.128704,
          39.758947799999994,
          35.996653,
          38.2641725,
          33.685696899999996,
          36.010356200000004,
          37.0300969,
          38.793270299999996,
          33.4270275,
          41.1536674,
          37.051059499999994,
          33.448436699999995,
          42.3756401,
          39.0840054,
          37.8314089,
          40.3880902,
          34.0709576,
          33.3061605,
          37.6820583,
          43.750828399999996,
          39.7683331,
          47.7598697,
          37.9768525,
          34.019470399999996,
          37.504936,
          36.0998131,
          38.13207979999999,
          42.4473175,
          38.8462236,
          30.173419399999997,
          37.804455700000005,
          40.1672117,
          39.9527237,
          37.53850870000001,
          42.268156899999994,
          38.9013729,
          36.1556805,
          39.003166,
          41.9220433,
          37.050096,
          42.473368900000004,
          34.729847,
          39.100105,
          41.6362152,
          40.55418,
          44.0206919,
          34.021122399999996,
          39.436843599999996,
          39.7092262,
          43.074760999999995,
          41.258745899999994,
          29.7589382,
          38.951883,
          40.152331,
          39.0988459,
          39.729432,
          45.5202471,
          40.6938609,
          42.6136586,
          40.0483744,
          37.496904,
          38.99276079999999,
          28.106471000000003,
          42.1617681,
          36.223107899999995,
          40.8088861,
          39.7459468,
          29.949932300000004,
          39.05483246,
          34.3988838,
          41.0799898,
          37.3893889,
          40.5462553,
          41.5051613,
          38.5810606,
          36.846292299999995,
          40.7281575,
          37.043994399999995,
          34.1976308,
          39.2864787,
          29.424600199999997,
          34.181648200000005,
          37.6624312,
          44.9772995,
          37.764802100000004,
          42.3222599,
          42.679272999999995,
          40.0149856,
          34.949800700000004,
          39.634277399999995,
          37.5841026,
          42.2964859,
          44.26113370000001,
          43.0702223,
          37.560033600000004,
          40.266310700000005,
          32.3528418,
          31.956534299999998,
          41.13343820000001,
          40.7433066,
          38.4368549,
          40.207057299999995,
          41.083064,
          42.0333608,
          38.9742502,
          39.978801700000005,
          34.10330582,
          40.5382375,
          34.2677404,
          25.72149,
          38.8897441,
          32.7762719,
          45.4206749,
          41.8864687,
          39.2039094,
          46.601557,
          42.2071434,
          37.451967100000005,
          39.416774,
          37.548269700000006,
          35.227208600000004,
          40.8509333,
          39.9597213,
          40.116420500000004,
          37.687165,
          42.995639700000005,
          42.5750946,
          39.82055689999999,
          41.772869899999996,
          40.1856597,
          33.750037799999994,
          41.2428742,
          38.8339578,
          39.4142186,
          38.7297287
         ],
         "legendgroup": "",
         "lon": [
          -73.935242,
          -122.419418,
          -71.05888399999999,
          -77.036873,
          -77.386101,
          -73.989308,
          -71.1056157,
          -77.1776327,
          -77.44566,
          -90.1998378,
          -84.3902644,
          -117.16277279999998,
          -77.3418,
          -77.2013705,
          -121.68463490000002,
          -122.232523,
          -76.492786,
          -104.98486229999999,
          -76.610759,
          -77.17109140000001,
          -122.3300624,
          -77.1509829,
          -77.0470229,
          -96.6925096,
          -121.890583,
          -118.91058770000001,
          -122.15984650000001,
          -77.09416750000001,
          -78.63909890000001,
          -122.19233700000001,
          -97.5170536,
          -122.41313170000001,
          -84.5124602,
          -93.6557945,
          -122.036349,
          -97.3327459,
          -81.35102640000001,
          -79.99008609999998,
          -119.2752055,
          -97.7436995,
          -81.3790304,
          -86.7742984,
          -77.234454,
          -71.1522766,
          -122.0322895,
          -71.2092214,
          -118.2517547,
          -71.2817947,
          -119.7026673,
          90.0516285,
          -91.6704053,
          -77.0841585,
          -76.8669233,
          -72.6906128,
          -87.82650890000001,
          -84.1916069,
          -78.90180529999999,
          -76.45310699999999,
          -117.82598190000002,
          -84.2696449,
          -76.34520570000001,
          -77.00097070000001,
          -117.6124179,
          -81.357886,
          -122.0146841,
          -112.07414170000001,
          -71.2358004,
          -77.15275729999999,
          -122.28652659999999,
          -111.8491619,
          -84.2747329,
          -111.84125,
          -121.76805309999999,
          -87.71453000000001,
          -86.1583502,
          -122.2068288,
          -122.03356240000001,
          -118.4912273,
          -122.2618236,
          -80.2440518,
          -78.427788,
          -71.2245003,
          -77.3063733,
          -95.50468599999999,
          -122.27135630000001,
          -105.1019287,
          -75.16352619999999,
          -77.43428,
          -83.7312291,
          -77.2651762,
          -95.9929113,
          -76.97192,
          -71.54950699999999,
          -121.9905908,
          -83.2218731,
          -86.5859011,
          -94.5781416,
          -70.934205,
          -74.2860008,
          -88.54085740000001,
          -118.39646599999999,
          -76.61870440000001,
          -84.0632685,
          -89.3837613,
          -95.93837579999999,
          -95.36769740000001,
          -92.3337366,
          -75.266289,
          -76.7429707,
          -104.8319196,
          -122.6741949,
          -89.5891008,
          -89.5852052,
          -86.4691677,
          -122.33305729999998,
          -77.0300984,
          -80.63715129999999,
          -70.7939307,
          -121.38774280000001,
          -96.70777509999999,
          -75.546589,
          -90.0701156,
          -76.73608398,
          -119.5184564,
          -85.13860150000001,
          -122.0832101,
          -74.46604079999999,
          -81.6934446,
          -121.493895,
          -76.2929252,
          -74.0776417,
          -82.3540345,
          -119.18038179999999,
          -80.25619809999999,
          -98.4951405,
          -118.3258554,
          -121.8746789,
          -93.2654692,
          -121.95443870000001,
          -83.1763145,
          -70.8411583,
          -105.270545,
          -81.9320157,
          -76.0757828,
          -122.36608249999999,
          -71.2925571,
          -88.40676040000001,
          -70.7548621,
          -122.26885220000001,
          -76.8861122,
          -90.8777342,
          -99.962313,
          -111.9965267,
          -74.0323752,
          -122.4022007,
          -74.08125059999999,
          -81.518485,
          -88.08340600000001,
          -94.6851702,
          -86.11892569999999,
          -117.5757446,
          -74.39451729999999,
          -118.7538071,
          -80.2683838,
          -77.0408608,
          -96.7968559,
          -122.67064979999999,
          -88.0201536,
          -76.6597094,
          -120.51084209999999,
          -72.60765,
          -122.17799270000002,
          -76.4585739,
          -121.988571,
          -80.84308270000001,
          -73.9701382,
          -75.6059638,
          -88.2433829,
          -122.4027942,
          -71.4547891,
          -70.9300507,
          -75.8283273,
          -88.14792779999999,
          -75.451571,
          -117.87049309999999,
          -73.20066870000001,
          -104.8253485,
          -77.4109269,
          -90.45528412
         ],
         "marker": {
          "color": [
           46,
           45,
           24,
           22,
           21,
           21,
           16,
           11,
           9,
           8,
           7,
           7,
           7,
           7,
           7,
           7,
           5,
           5,
           5,
           5,
           5,
           4,
           4,
           4,
           4,
           4,
           4,
           4,
           4,
           4,
           4,
           4,
           4,
           3,
           3,
           3,
           3,
           3,
           3,
           3,
           3,
           3,
           3,
           3,
           3,
           3,
           3,
           3,
           3,
           3,
           3,
           3,
           3,
           3,
           2,
           2,
           2,
           2,
           2,
           2,
           2,
           2,
           2,
           2,
           2,
           2,
           2,
           2,
           2,
           2,
           2,
           2,
           2,
           2,
           2,
           2,
           2,
           2,
           2,
           2,
           2,
           2,
           2,
           2,
           2,
           2,
           2,
           2,
           2,
           2,
           2,
           2,
           2,
           2,
           2,
           2,
           2,
           1,
           1,
           1,
           1,
           1,
           1,
           1,
           1,
           1,
           1,
           1,
           1,
           1,
           1,
           1,
           1,
           1,
           1,
           1,
           1,
           1,
           1,
           1,
           1,
           1,
           1,
           1,
           1,
           1,
           1,
           1,
           1,
           1,
           1,
           1,
           1,
           1,
           1,
           1,
           1,
           1,
           1,
           1,
           1,
           1,
           1,
           1,
           1,
           1,
           1,
           1,
           1,
           1,
           1,
           1,
           1,
           1,
           1,
           1,
           1,
           1,
           1,
           1,
           1,
           1,
           1,
           1,
           1,
           1,
           1,
           1,
           1,
           1,
           1,
           1,
           1,
           1,
           1,
           1,
           1,
           1,
           1,
           1,
           1,
           1,
           1,
           1,
           1,
           1,
           1,
           1,
           1
          ],
          "coloraxis": "coloraxis",
          "size": [
           46,
           45,
           24,
           22,
           21,
           21,
           16,
           11,
           9,
           8,
           7,
           7,
           7,
           7,
           7,
           7,
           5,
           5,
           5,
           5,
           5,
           4,
           4,
           4,
           4,
           4,
           4,
           4,
           4,
           4,
           4,
           4,
           4,
           3,
           3,
           3,
           3,
           3,
           3,
           3,
           3,
           3,
           3,
           3,
           3,
           3,
           3,
           3,
           3,
           3,
           3,
           3,
           3,
           3,
           2,
           2,
           2,
           2,
           2,
           2,
           2,
           2,
           2,
           2,
           2,
           2,
           2,
           2,
           2,
           2,
           2,
           2,
           2,
           2,
           2,
           2,
           2,
           2,
           2,
           2,
           2,
           2,
           2,
           2,
           2,
           2,
           2,
           2,
           2,
           2,
           2,
           2,
           2,
           2,
           2,
           2,
           2,
           1,
           1,
           1,
           1,
           1,
           1,
           1,
           1,
           1,
           1,
           1,
           1,
           1,
           1,
           1,
           1,
           1,
           1,
           1,
           1,
           1,
           1,
           1,
           1,
           1,
           1,
           1,
           1,
           1,
           1,
           1,
           1,
           1,
           1,
           1,
           1,
           1,
           1,
           1,
           1,
           1,
           1,
           1,
           1,
           1,
           1,
           1,
           1,
           1,
           1,
           1,
           1,
           1,
           1,
           1,
           1,
           1,
           1,
           1,
           1,
           1,
           1,
           1,
           1,
           1,
           1,
           1,
           1,
           1,
           1,
           1,
           1,
           1,
           1,
           1,
           1,
           1,
           1,
           1,
           1,
           1,
           1,
           1,
           1,
           1,
           1,
           1,
           1,
           1,
           1,
           1,
           1
          ],
          "sizemode": "area",
          "sizeref": 0.02875
         },
         "mode": "markers",
         "name": "",
         "showlegend": false,
         "subplot": "mapbox",
         "type": "scattermapbox"
        }
       ],
       "layout": {
        "coloraxis": {
         "colorbar": {
          "title": {
           "text": "Postings"
          }
         },
         "colorscale": [
          [
           0,
           "rgb(0,0,131)"
          ],
          [
           0.2,
           "rgb(0,60,170)"
          ],
          [
           0.4,
           "rgb(5,255,255)"
          ],
          [
           0.6,
           "rgb(255,255,0)"
          ],
          [
           0.8,
           "rgb(250,0,0)"
          ],
          [
           1,
           "rgb(128,0,0)"
          ]
         ]
        },
        "legend": {
         "itemsizing": "constant",
         "tracegroupgap": 0
        },
        "mapbox": {
         "accesstoken": "pk.eyJ1IjoiYnJpdHRhbnlheWxpYSIsImEiOiJja3B1NHFmMmUwdXBvMnVvMGM5cTNhNDNwIn0.x0zOKqVVVmmdqfLQmPBO5w",
         "center": {
          "lat": 37.0902,
          "lon": -95.7129
         },
         "domain": {
          "x": [
           0,
           1
          ],
          "y": [
           0,
           1
          ]
         },
         "zoom": 3
        },
        "margin": {
         "t": 60
        },
        "template": {
         "data": {
          "bar": [
           {
            "error_x": {
             "color": "#2a3f5f"
            },
            "error_y": {
             "color": "#2a3f5f"
            },
            "marker": {
             "line": {
              "color": "#E5ECF6",
              "width": 0.5
             }
            },
            "type": "bar"
           }
          ],
          "barpolar": [
           {
            "marker": {
             "line": {
              "color": "#E5ECF6",
              "width": 0.5
             }
            },
            "type": "barpolar"
           }
          ],
          "carpet": [
           {
            "aaxis": {
             "endlinecolor": "#2a3f5f",
             "gridcolor": "white",
             "linecolor": "white",
             "minorgridcolor": "white",
             "startlinecolor": "#2a3f5f"
            },
            "baxis": {
             "endlinecolor": "#2a3f5f",
             "gridcolor": "white",
             "linecolor": "white",
             "minorgridcolor": "white",
             "startlinecolor": "#2a3f5f"
            },
            "type": "carpet"
           }
          ],
          "choropleth": [
           {
            "colorbar": {
             "outlinewidth": 0,
             "ticks": ""
            },
            "type": "choropleth"
           }
          ],
          "contour": [
           {
            "colorbar": {
             "outlinewidth": 0,
             "ticks": ""
            },
            "colorscale": [
             [
              0,
              "#0d0887"
             ],
             [
              0.1111111111111111,
              "#46039f"
             ],
             [
              0.2222222222222222,
              "#7201a8"
             ],
             [
              0.3333333333333333,
              "#9c179e"
             ],
             [
              0.4444444444444444,
              "#bd3786"
             ],
             [
              0.5555555555555556,
              "#d8576b"
             ],
             [
              0.6666666666666666,
              "#ed7953"
             ],
             [
              0.7777777777777778,
              "#fb9f3a"
             ],
             [
              0.8888888888888888,
              "#fdca26"
             ],
             [
              1,
              "#f0f921"
             ]
            ],
            "type": "contour"
           }
          ],
          "contourcarpet": [
           {
            "colorbar": {
             "outlinewidth": 0,
             "ticks": ""
            },
            "type": "contourcarpet"
           }
          ],
          "heatmap": [
           {
            "colorbar": {
             "outlinewidth": 0,
             "ticks": ""
            },
            "colorscale": [
             [
              0,
              "#0d0887"
             ],
             [
              0.1111111111111111,
              "#46039f"
             ],
             [
              0.2222222222222222,
              "#7201a8"
             ],
             [
              0.3333333333333333,
              "#9c179e"
             ],
             [
              0.4444444444444444,
              "#bd3786"
             ],
             [
              0.5555555555555556,
              "#d8576b"
             ],
             [
              0.6666666666666666,
              "#ed7953"
             ],
             [
              0.7777777777777778,
              "#fb9f3a"
             ],
             [
              0.8888888888888888,
              "#fdca26"
             ],
             [
              1,
              "#f0f921"
             ]
            ],
            "type": "heatmap"
           }
          ],
          "heatmapgl": [
           {
            "colorbar": {
             "outlinewidth": 0,
             "ticks": ""
            },
            "colorscale": [
             [
              0,
              "#0d0887"
             ],
             [
              0.1111111111111111,
              "#46039f"
             ],
             [
              0.2222222222222222,
              "#7201a8"
             ],
             [
              0.3333333333333333,
              "#9c179e"
             ],
             [
              0.4444444444444444,
              "#bd3786"
             ],
             [
              0.5555555555555556,
              "#d8576b"
             ],
             [
              0.6666666666666666,
              "#ed7953"
             ],
             [
              0.7777777777777778,
              "#fb9f3a"
             ],
             [
              0.8888888888888888,
              "#fdca26"
             ],
             [
              1,
              "#f0f921"
             ]
            ],
            "type": "heatmapgl"
           }
          ],
          "histogram": [
           {
            "marker": {
             "colorbar": {
              "outlinewidth": 0,
              "ticks": ""
             }
            },
            "type": "histogram"
           }
          ],
          "histogram2d": [
           {
            "colorbar": {
             "outlinewidth": 0,
             "ticks": ""
            },
            "colorscale": [
             [
              0,
              "#0d0887"
             ],
             [
              0.1111111111111111,
              "#46039f"
             ],
             [
              0.2222222222222222,
              "#7201a8"
             ],
             [
              0.3333333333333333,
              "#9c179e"
             ],
             [
              0.4444444444444444,
              "#bd3786"
             ],
             [
              0.5555555555555556,
              "#d8576b"
             ],
             [
              0.6666666666666666,
              "#ed7953"
             ],
             [
              0.7777777777777778,
              "#fb9f3a"
             ],
             [
              0.8888888888888888,
              "#fdca26"
             ],
             [
              1,
              "#f0f921"
             ]
            ],
            "type": "histogram2d"
           }
          ],
          "histogram2dcontour": [
           {
            "colorbar": {
             "outlinewidth": 0,
             "ticks": ""
            },
            "colorscale": [
             [
              0,
              "#0d0887"
             ],
             [
              0.1111111111111111,
              "#46039f"
             ],
             [
              0.2222222222222222,
              "#7201a8"
             ],
             [
              0.3333333333333333,
              "#9c179e"
             ],
             [
              0.4444444444444444,
              "#bd3786"
             ],
             [
              0.5555555555555556,
              "#d8576b"
             ],
             [
              0.6666666666666666,
              "#ed7953"
             ],
             [
              0.7777777777777778,
              "#fb9f3a"
             ],
             [
              0.8888888888888888,
              "#fdca26"
             ],
             [
              1,
              "#f0f921"
             ]
            ],
            "type": "histogram2dcontour"
           }
          ],
          "mesh3d": [
           {
            "colorbar": {
             "outlinewidth": 0,
             "ticks": ""
            },
            "type": "mesh3d"
           }
          ],
          "parcoords": [
           {
            "line": {
             "colorbar": {
              "outlinewidth": 0,
              "ticks": ""
             }
            },
            "type": "parcoords"
           }
          ],
          "pie": [
           {
            "automargin": true,
            "type": "pie"
           }
          ],
          "scatter": [
           {
            "marker": {
             "colorbar": {
              "outlinewidth": 0,
              "ticks": ""
             }
            },
            "type": "scatter"
           }
          ],
          "scatter3d": [
           {
            "line": {
             "colorbar": {
              "outlinewidth": 0,
              "ticks": ""
             }
            },
            "marker": {
             "colorbar": {
              "outlinewidth": 0,
              "ticks": ""
             }
            },
            "type": "scatter3d"
           }
          ],
          "scattercarpet": [
           {
            "marker": {
             "colorbar": {
              "outlinewidth": 0,
              "ticks": ""
             }
            },
            "type": "scattercarpet"
           }
          ],
          "scattergeo": [
           {
            "marker": {
             "colorbar": {
              "outlinewidth": 0,
              "ticks": ""
             }
            },
            "type": "scattergeo"
           }
          ],
          "scattergl": [
           {
            "marker": {
             "colorbar": {
              "outlinewidth": 0,
              "ticks": ""
             }
            },
            "type": "scattergl"
           }
          ],
          "scattermapbox": [
           {
            "marker": {
             "colorbar": {
              "outlinewidth": 0,
              "ticks": ""
             }
            },
            "type": "scattermapbox"
           }
          ],
          "scatterpolar": [
           {
            "marker": {
             "colorbar": {
              "outlinewidth": 0,
              "ticks": ""
             }
            },
            "type": "scatterpolar"
           }
          ],
          "scatterpolargl": [
           {
            "marker": {
             "colorbar": {
              "outlinewidth": 0,
              "ticks": ""
             }
            },
            "type": "scatterpolargl"
           }
          ],
          "scatterternary": [
           {
            "marker": {
             "colorbar": {
              "outlinewidth": 0,
              "ticks": ""
             }
            },
            "type": "scatterternary"
           }
          ],
          "surface": [
           {
            "colorbar": {
             "outlinewidth": 0,
             "ticks": ""
            },
            "colorscale": [
             [
              0,
              "#0d0887"
             ],
             [
              0.1111111111111111,
              "#46039f"
             ],
             [
              0.2222222222222222,
              "#7201a8"
             ],
             [
              0.3333333333333333,
              "#9c179e"
             ],
             [
              0.4444444444444444,
              "#bd3786"
             ],
             [
              0.5555555555555556,
              "#d8576b"
             ],
             [
              0.6666666666666666,
              "#ed7953"
             ],
             [
              0.7777777777777778,
              "#fb9f3a"
             ],
             [
              0.8888888888888888,
              "#fdca26"
             ],
             [
              1,
              "#f0f921"
             ]
            ],
            "type": "surface"
           }
          ],
          "table": [
           {
            "cells": {
             "fill": {
              "color": "#EBF0F8"
             },
             "line": {
              "color": "white"
             }
            },
            "header": {
             "fill": {
              "color": "#C8D4E3"
             },
             "line": {
              "color": "white"
             }
            },
            "type": "table"
           }
          ]
         },
         "layout": {
          "annotationdefaults": {
           "arrowcolor": "#2a3f5f",
           "arrowhead": 0,
           "arrowwidth": 1
          },
          "autotypenumbers": "strict",
          "coloraxis": {
           "colorbar": {
            "outlinewidth": 0,
            "ticks": ""
           }
          },
          "colorscale": {
           "diverging": [
            [
             0,
             "#8e0152"
            ],
            [
             0.1,
             "#c51b7d"
            ],
            [
             0.2,
             "#de77ae"
            ],
            [
             0.3,
             "#f1b6da"
            ],
            [
             0.4,
             "#fde0ef"
            ],
            [
             0.5,
             "#f7f7f7"
            ],
            [
             0.6,
             "#e6f5d0"
            ],
            [
             0.7,
             "#b8e186"
            ],
            [
             0.8,
             "#7fbc41"
            ],
            [
             0.9,
             "#4d9221"
            ],
            [
             1,
             "#276419"
            ]
           ],
           "sequential": [
            [
             0,
             "#0d0887"
            ],
            [
             0.1111111111111111,
             "#46039f"
            ],
            [
             0.2222222222222222,
             "#7201a8"
            ],
            [
             0.3333333333333333,
             "#9c179e"
            ],
            [
             0.4444444444444444,
             "#bd3786"
            ],
            [
             0.5555555555555556,
             "#d8576b"
            ],
            [
             0.6666666666666666,
             "#ed7953"
            ],
            [
             0.7777777777777778,
             "#fb9f3a"
            ],
            [
             0.8888888888888888,
             "#fdca26"
            ],
            [
             1,
             "#f0f921"
            ]
           ],
           "sequentialminus": [
            [
             0,
             "#0d0887"
            ],
            [
             0.1111111111111111,
             "#46039f"
            ],
            [
             0.2222222222222222,
             "#7201a8"
            ],
            [
             0.3333333333333333,
             "#9c179e"
            ],
            [
             0.4444444444444444,
             "#bd3786"
            ],
            [
             0.5555555555555556,
             "#d8576b"
            ],
            [
             0.6666666666666666,
             "#ed7953"
            ],
            [
             0.7777777777777778,
             "#fb9f3a"
            ],
            [
             0.8888888888888888,
             "#fdca26"
            ],
            [
             1,
             "#f0f921"
            ]
           ]
          },
          "colorway": [
           "#636efa",
           "#EF553B",
           "#00cc96",
           "#ab63fa",
           "#FFA15A",
           "#19d3f3",
           "#FF6692",
           "#B6E880",
           "#FF97FF",
           "#FECB52"
          ],
          "font": {
           "color": "#2a3f5f"
          },
          "geo": {
           "bgcolor": "white",
           "lakecolor": "white",
           "landcolor": "#E5ECF6",
           "showlakes": true,
           "showland": true,
           "subunitcolor": "white"
          },
          "hoverlabel": {
           "align": "left"
          },
          "hovermode": "closest",
          "mapbox": {
           "style": "light"
          },
          "paper_bgcolor": "white",
          "plot_bgcolor": "#E5ECF6",
          "polar": {
           "angularaxis": {
            "gridcolor": "white",
            "linecolor": "white",
            "ticks": ""
           },
           "bgcolor": "#E5ECF6",
           "radialaxis": {
            "gridcolor": "white",
            "linecolor": "white",
            "ticks": ""
           }
          },
          "scene": {
           "xaxis": {
            "backgroundcolor": "#E5ECF6",
            "gridcolor": "white",
            "gridwidth": 2,
            "linecolor": "white",
            "showbackground": true,
            "ticks": "",
            "zerolinecolor": "white"
           },
           "yaxis": {
            "backgroundcolor": "#E5ECF6",
            "gridcolor": "white",
            "gridwidth": 2,
            "linecolor": "white",
            "showbackground": true,
            "ticks": "",
            "zerolinecolor": "white"
           },
           "zaxis": {
            "backgroundcolor": "#E5ECF6",
            "gridcolor": "white",
            "gridwidth": 2,
            "linecolor": "white",
            "showbackground": true,
            "ticks": "",
            "zerolinecolor": "white"
           }
          },
          "shapedefaults": {
           "line": {
            "color": "#2a3f5f"
           }
          },
          "ternary": {
           "aaxis": {
            "gridcolor": "white",
            "linecolor": "white",
            "ticks": ""
           },
           "baxis": {
            "gridcolor": "white",
            "linecolor": "white",
            "ticks": ""
           },
           "bgcolor": "#E5ECF6",
           "caxis": {
            "gridcolor": "white",
            "linecolor": "white",
            "ticks": ""
           }
          },
          "title": {
           "x": 0.05
          },
          "xaxis": {
           "automargin": true,
           "gridcolor": "white",
           "linecolor": "white",
           "ticks": "",
           "title": {
            "standoff": 15
           },
           "zerolinecolor": "white",
           "zerolinewidth": 2
          },
          "yaxis": {
           "automargin": true,
           "gridcolor": "white",
           "linecolor": "white",
           "ticks": "",
           "title": {
            "standoff": 15
           },
           "zerolinecolor": "white",
           "zerolinewidth": 2
          }
         }
        },
        "title": {
         "text": "Data Science Job Posting Locations in 2020"
        }
       }
      },
      "text/html": [
       "<div>                            <div id=\"e9b3277d-7b63-4f98-94f5-8cc26b0e068b\" class=\"plotly-graph-div\" style=\"height:525px; width:100%;\"></div>            <script type=\"text/javascript\">                require([\"plotly\"], function(Plotly) {                    window.PLOTLYENV=window.PLOTLYENV || {};                                    if (document.getElementById(\"e9b3277d-7b63-4f98-94f5-8cc26b0e068b\")) {                    Plotly.newPlot(                        \"e9b3277d-7b63-4f98-94f5-8cc26b0e068b\",                        [{\"hovertemplate\": \"<b>%{hovertext}</b><br><br>Postings=%{marker.color}<br>Lat=%{lat}<br>Long_=%{lon}<extra></extra>\", \"hovertext\": [\"New York, NY\", \"San Francisco, CA\", \"Boston, MA\", \"Washington, DC\", \"Herndon, VA\", \"Chicago, IL\", \"Cambridge, MA\", \"McLean, VA\", \"Chantilly, VA\", \"Saint Louis, MO\", \"Atlanta, GA\", \"San Diego, CA\", \"Reston, VA\", \"Gaithersburg, MD\", \"Santa Clara, CA\", \"Redwood City, CA\", \"Annapolis Junction, MD\", \"Denver, CO\", \"Baltimore, MD\", \"Falls Church, VA\", \"Seattle, WA\", \"Fort Belvoir, VA\", \"Alexandria, VA\", \"Plano, TX\", \"San Jose, CA\", \"Thousand Oaks, CA\", \"Palo Alto, CA\", \"Bethesda, MD\", \"Raleigh, NC\", \"Bellevue, WA\", \"Oklahoma City, OK\", \"South San Francisco, CA\", \"Cincinnati, OH\", \"Maple Plain, MN\", \"Sunnyvale, CA\", \"Fort Worth, TX\", \"Winter Park, FL\", \"Pittsburgh, PA\", \"Richland, WA\", \"Austin, TX\", \"Orlando, FL\", \"Nashville, TN\", \"Merrifield, VA\", \"Woburn, MA\", \"Cupertino, CA\", \"Newton, MA\", \"Carson, CA\", \"Bedford, MA\", \"Santa Barbara, CA\", \"Memphis, TN\", \"Cedar Rapids, IA\", \"Arlington, VA\", \"Laurel, MD\", \"Hartford, CT\", \"Northbrook, IL\", \"Dayton, OH\", \"Durham, NC\", \"Lexington Park, MD\", \"Irvine, CA\", \"Oak Ridge, TN\", \"Hampton, VA\", \"Columbia, MD\", \"San Clemente, CA\", \"Kent, OH\", \"Scotts Valley, CA\", \"Phoenix, AZ\", \"Waltham, MA\", \"Rockville, MD\", \"Emeryville, CA\", \"Lehi, UT\", \"Alpharetta, GA\", \"Chandler, AZ\", \"Livermore, CA\", \"Sheboygan, WI\", \"Indianapolis, IN\", \"Bothell, WA\", \"Concord, CA\", \"Santa Monica, CA\", \"San Carlos, CA\", \"Winston-Salem, NC\", \"Springfield, VA\", \"Lexington, MA\", \"Fairfax, VA\", \"The Woodlands, TX\", \"Oakland, CA\", \"Longmont, CO\", \"Philadelphia, PA\", \"Richmond, VA\", \"Ann Arbor, MI\", \"Vienna, VA\", \"Tulsa, OK\", \"Adelphi, MD\", \"Smithfield, RI\", \"Santa Cruz, CA\", \"Southfield, MI\", \"Huntsville, AL\", \"Kansas City, MO\", \"New Bedford, MA\", \"Woodbridge, NJ\", \"Oshkosh, WI\", \"Culver City, CA\", \"Timonium, MD\", \"Beavercreek, OH\", \"Madison, WI\", \"Omaha, NE\", \"Houston, TX\", \"Columbia, MO\", \"Blue Bell, PA\", \"Fort Meade, MD\", \"Aurora, CO\", \"Portland, OR\", \"Peoria, IL\", \"Monroe, WI\", \"Lebanon, IN\", \"San Mateo, CA\", \"Silver Spring, MD\", \"Melbourne, FL\", \"Norwell, MA\", \"Monterey, CA\", \"Lincoln, NE\", \"Wilmington, DE\", \"New Orleans, LA\", \"Patuxent, Anne Arundel, MD\", \"Carpinteria, CA\", \"Fort Wayne, IN\", \"Mountain View, CA\", \"Piscataway, NJ\", \"Cleveland, OH\", \"Sacramento, CA\", \"Norfolk, VA\", \"Jersey City, NJ\", \"Open Fork, VA\", \"Oxnard, CA\", \"Bridgeport, WV\", \"San Antonio, TX\", \"Burbank, CA\", \"Pleasanton, CA\", \"Minneapolis, MN\", \"San Ramon, CA\", \"Dearborn, MI\", \"Ipswich, MA\", \"Boulder, CO\", \"Spartanburg, SC\", \"Woodlawn, MD\", \"Burlingame, CA\", \"Wellesley, MA\", \"Appleton, WI\", \"Portsmouth, NH\", \"Foster City, CA\", \"Harrisburg, PA\", \"Vicksburg, MS\", \"Winters, TX\", \"Hill AFB, UT\", \"Hoboken, NJ\", \"Oakville, CA\", \"Hamilton, NJ\", \"Akron, OH\", \"Schaumburg, IL\", \"Overland Park, KS\", \"Carmel, IN\", \"Rancho Cucamonga, CA\", \"Edison, NJ\", \"Simi Valley, CA\", \"Coral Gables, FL\", \"Columbia, SC\", \"Dallas, TX\", \"Lake Oswego, OR\", \"Lombard, IL\", \"Linthicum Heights, MD\", \"Yakima, WA\", \"Holyoke, MA\", \"Menlo Park, CA\", \"Germantown, MD\", \"Fremont, CA\", \"Charlotte, NC\", \"Fort Lee, NJ\", \"West Chester, PA\", \"Champaign, IL\", \"Brisbane, CA\", \"Manchester, NH\", \"Danvers, MA\", \"West Grove, PA\", \"Naperville, IL\", \"Collegeville, PA\", \"Orange, CA\", \"Trumbull, CT\", \"Colorado Springs, CO\", \"Frederick, MD\", \"Maryland Heights, MO\"], \"lat\": [40.73061, 37.774929, 42.360081, 38.907191999999995, 38.969555, 40.741895, 42.3750997, 38.9342888, 38.88668, 38.6264178, 33.7489924, 32.7174202, 38.961459999999995, 39.143440600000005, 37.2333253, 37.4863239, 38.9786401, 39.7392364, 39.2908816, 38.882334, 47.6038321, 38.7282122, 38.8051095, 33.013676399999994, 37.3361905, 34.1714271, 37.44432929999999, 38.9843774, 35.7803977, 47.614421899999996, 35.4729886, 37.65584183, 39.1014537, 45.0071851, 37.368830100000004, 32.753177, 28.597770699999998, 40.4416941, 46.28042979999999, 30.2711286, 28.5421109, 36.16227670000001, 38.873861, 42.479261799999996, 37.3228934, 42.3370414, 33.832204299999994, 42.491730100000005, 34.4221319, 35.1490215, 41.9758872, 38.890396100000004, 39.10441229999999, 41.76555820000001, 42.128704, 39.758947799999994, 35.996653, 38.2641725, 33.685696899999996, 36.010356200000004, 37.0300969, 38.793270299999996, 33.4270275, 41.1536674, 37.051059499999994, 33.448436699999995, 42.3756401, 39.0840054, 37.8314089, 40.3880902, 34.0709576, 33.3061605, 37.6820583, 43.750828399999996, 39.7683331, 47.7598697, 37.9768525, 34.019470399999996, 37.504936, 36.0998131, 38.13207979999999, 42.4473175, 38.8462236, 30.173419399999997, 37.804455700000005, 40.1672117, 39.9527237, 37.53850870000001, 42.268156899999994, 38.9013729, 36.1556805, 39.003166, 41.9220433, 37.050096, 42.473368900000004, 34.729847, 39.100105, 41.6362152, 40.55418, 44.0206919, 34.021122399999996, 39.436843599999996, 39.7092262, 43.074760999999995, 41.258745899999994, 29.7589382, 38.951883, 40.152331, 39.0988459, 39.729432, 45.5202471, 40.6938609, 42.6136586, 40.0483744, 37.496904, 38.99276079999999, 28.106471000000003, 42.1617681, 36.223107899999995, 40.8088861, 39.7459468, 29.949932300000004, 39.05483246, 34.3988838, 41.0799898, 37.3893889, 40.5462553, 41.5051613, 38.5810606, 36.846292299999995, 40.7281575, 37.043994399999995, 34.1976308, 39.2864787, 29.424600199999997, 34.181648200000005, 37.6624312, 44.9772995, 37.764802100000004, 42.3222599, 42.679272999999995, 40.0149856, 34.949800700000004, 39.634277399999995, 37.5841026, 42.2964859, 44.26113370000001, 43.0702223, 37.560033600000004, 40.266310700000005, 32.3528418, 31.956534299999998, 41.13343820000001, 40.7433066, 38.4368549, 40.207057299999995, 41.083064, 42.0333608, 38.9742502, 39.978801700000005, 34.10330582, 40.5382375, 34.2677404, 25.72149, 38.8897441, 32.7762719, 45.4206749, 41.8864687, 39.2039094, 46.601557, 42.2071434, 37.451967100000005, 39.416774, 37.548269700000006, 35.227208600000004, 40.8509333, 39.9597213, 40.116420500000004, 37.687165, 42.995639700000005, 42.5750946, 39.82055689999999, 41.772869899999996, 40.1856597, 33.750037799999994, 41.2428742, 38.8339578, 39.4142186, 38.7297287], \"legendgroup\": \"\", \"lon\": [-73.935242, -122.419418, -71.05888399999999, -77.036873, -77.386101, -73.989308, -71.1056157, -77.1776327, -77.44566, -90.1998378, -84.3902644, -117.16277279999998, -77.3418, -77.2013705, -121.68463490000002, -122.232523, -76.492786, -104.98486229999999, -76.610759, -77.17109140000001, -122.3300624, -77.1509829, -77.0470229, -96.6925096, -121.890583, -118.91058770000001, -122.15984650000001, -77.09416750000001, -78.63909890000001, -122.19233700000001, -97.5170536, -122.41313170000001, -84.5124602, -93.6557945, -122.036349, -97.3327459, -81.35102640000001, -79.99008609999998, -119.2752055, -97.7436995, -81.3790304, -86.7742984, -77.234454, -71.1522766, -122.0322895, -71.2092214, -118.2517547, -71.2817947, -119.7026673, 90.0516285, -91.6704053, -77.0841585, -76.8669233, -72.6906128, -87.82650890000001, -84.1916069, -78.90180529999999, -76.45310699999999, -117.82598190000002, -84.2696449, -76.34520570000001, -77.00097070000001, -117.6124179, -81.357886, -122.0146841, -112.07414170000001, -71.2358004, -77.15275729999999, -122.28652659999999, -111.8491619, -84.2747329, -111.84125, -121.76805309999999, -87.71453000000001, -86.1583502, -122.2068288, -122.03356240000001, -118.4912273, -122.2618236, -80.2440518, -78.427788, -71.2245003, -77.3063733, -95.50468599999999, -122.27135630000001, -105.1019287, -75.16352619999999, -77.43428, -83.7312291, -77.2651762, -95.9929113, -76.97192, -71.54950699999999, -121.9905908, -83.2218731, -86.5859011, -94.5781416, -70.934205, -74.2860008, -88.54085740000001, -118.39646599999999, -76.61870440000001, -84.0632685, -89.3837613, -95.93837579999999, -95.36769740000001, -92.3337366, -75.266289, -76.7429707, -104.8319196, -122.6741949, -89.5891008, -89.5852052, -86.4691677, -122.33305729999998, -77.0300984, -80.63715129999999, -70.7939307, -121.38774280000001, -96.70777509999999, -75.546589, -90.0701156, -76.73608398, -119.5184564, -85.13860150000001, -122.0832101, -74.46604079999999, -81.6934446, -121.493895, -76.2929252, -74.0776417, -82.3540345, -119.18038179999999, -80.25619809999999, -98.4951405, -118.3258554, -121.8746789, -93.2654692, -121.95443870000001, -83.1763145, -70.8411583, -105.270545, -81.9320157, -76.0757828, -122.36608249999999, -71.2925571, -88.40676040000001, -70.7548621, -122.26885220000001, -76.8861122, -90.8777342, -99.962313, -111.9965267, -74.0323752, -122.4022007, -74.08125059999999, -81.518485, -88.08340600000001, -94.6851702, -86.11892569999999, -117.5757446, -74.39451729999999, -118.7538071, -80.2683838, -77.0408608, -96.7968559, -122.67064979999999, -88.0201536, -76.6597094, -120.51084209999999, -72.60765, -122.17799270000002, -76.4585739, -121.988571, -80.84308270000001, -73.9701382, -75.6059638, -88.2433829, -122.4027942, -71.4547891, -70.9300507, -75.8283273, -88.14792779999999, -75.451571, -117.87049309999999, -73.20066870000001, -104.8253485, -77.4109269, -90.45528412], \"marker\": {\"color\": [46, 45, 24, 22, 21, 21, 16, 11, 9, 8, 7, 7, 7, 7, 7, 7, 5, 5, 5, 5, 5, 4, 4, 4, 4, 4, 4, 4, 4, 4, 4, 4, 4, 3, 3, 3, 3, 3, 3, 3, 3, 3, 3, 3, 3, 3, 3, 3, 3, 3, 3, 3, 3, 3, 2, 2, 2, 2, 2, 2, 2, 2, 2, 2, 2, 2, 2, 2, 2, 2, 2, 2, 2, 2, 2, 2, 2, 2, 2, 2, 2, 2, 2, 2, 2, 2, 2, 2, 2, 2, 2, 2, 2, 2, 2, 2, 2, 1, 1, 1, 1, 1, 1, 1, 1, 1, 1, 1, 1, 1, 1, 1, 1, 1, 1, 1, 1, 1, 1, 1, 1, 1, 1, 1, 1, 1, 1, 1, 1, 1, 1, 1, 1, 1, 1, 1, 1, 1, 1, 1, 1, 1, 1, 1, 1, 1, 1, 1, 1, 1, 1, 1, 1, 1, 1, 1, 1, 1, 1, 1, 1, 1, 1, 1, 1, 1, 1, 1, 1, 1, 1, 1, 1, 1, 1, 1, 1, 1, 1, 1, 1, 1, 1, 1, 1, 1, 1, 1, 1], \"coloraxis\": \"coloraxis\", \"size\": [46, 45, 24, 22, 21, 21, 16, 11, 9, 8, 7, 7, 7, 7, 7, 7, 5, 5, 5, 5, 5, 4, 4, 4, 4, 4, 4, 4, 4, 4, 4, 4, 4, 3, 3, 3, 3, 3, 3, 3, 3, 3, 3, 3, 3, 3, 3, 3, 3, 3, 3, 3, 3, 3, 2, 2, 2, 2, 2, 2, 2, 2, 2, 2, 2, 2, 2, 2, 2, 2, 2, 2, 2, 2, 2, 2, 2, 2, 2, 2, 2, 2, 2, 2, 2, 2, 2, 2, 2, 2, 2, 2, 2, 2, 2, 2, 2, 1, 1, 1, 1, 1, 1, 1, 1, 1, 1, 1, 1, 1, 1, 1, 1, 1, 1, 1, 1, 1, 1, 1, 1, 1, 1, 1, 1, 1, 1, 1, 1, 1, 1, 1, 1, 1, 1, 1, 1, 1, 1, 1, 1, 1, 1, 1, 1, 1, 1, 1, 1, 1, 1, 1, 1, 1, 1, 1, 1, 1, 1, 1, 1, 1, 1, 1, 1, 1, 1, 1, 1, 1, 1, 1, 1, 1, 1, 1, 1, 1, 1, 1, 1, 1, 1, 1, 1, 1, 1, 1, 1], \"sizemode\": \"area\", \"sizeref\": 0.02875}, \"mode\": \"markers\", \"name\": \"\", \"showlegend\": false, \"subplot\": \"mapbox\", \"type\": \"scattermapbox\"}],                        {\"coloraxis\": {\"colorbar\": {\"title\": {\"text\": \"Postings\"}}, \"colorscale\": [[0.0, \"rgb(0,0,131)\"], [0.2, \"rgb(0,60,170)\"], [0.4, \"rgb(5,255,255)\"], [0.6, \"rgb(255,255,0)\"], [0.8, \"rgb(250,0,0)\"], [1.0, \"rgb(128,0,0)\"]]}, \"legend\": {\"itemsizing\": \"constant\", \"tracegroupgap\": 0}, \"mapbox\": {\"accesstoken\": \"pk.eyJ1IjoiYnJpdHRhbnlheWxpYSIsImEiOiJja3B1NHFmMmUwdXBvMnVvMGM5cTNhNDNwIn0.x0zOKqVVVmmdqfLQmPBO5w\", \"center\": {\"lat\": 37.0902, \"lon\": -95.7129}, \"domain\": {\"x\": [0.0, 1.0], \"y\": [0.0, 1.0]}, \"zoom\": 3}, \"margin\": {\"t\": 60}, \"template\": {\"data\": {\"bar\": [{\"error_x\": {\"color\": \"#2a3f5f\"}, \"error_y\": {\"color\": \"#2a3f5f\"}, \"marker\": {\"line\": {\"color\": \"#E5ECF6\", \"width\": 0.5}}, \"type\": \"bar\"}], \"barpolar\": [{\"marker\": {\"line\": {\"color\": \"#E5ECF6\", \"width\": 0.5}}, \"type\": \"barpolar\"}], \"carpet\": [{\"aaxis\": {\"endlinecolor\": \"#2a3f5f\", \"gridcolor\": \"white\", \"linecolor\": \"white\", \"minorgridcolor\": \"white\", \"startlinecolor\": \"#2a3f5f\"}, \"baxis\": {\"endlinecolor\": \"#2a3f5f\", \"gridcolor\": \"white\", \"linecolor\": \"white\", \"minorgridcolor\": \"white\", \"startlinecolor\": \"#2a3f5f\"}, \"type\": \"carpet\"}], \"choropleth\": [{\"colorbar\": {\"outlinewidth\": 0, \"ticks\": \"\"}, \"type\": \"choropleth\"}], \"contour\": [{\"colorbar\": {\"outlinewidth\": 0, \"ticks\": \"\"}, \"colorscale\": [[0.0, \"#0d0887\"], [0.1111111111111111, \"#46039f\"], [0.2222222222222222, \"#7201a8\"], [0.3333333333333333, \"#9c179e\"], [0.4444444444444444, \"#bd3786\"], [0.5555555555555556, \"#d8576b\"], [0.6666666666666666, \"#ed7953\"], [0.7777777777777778, \"#fb9f3a\"], [0.8888888888888888, \"#fdca26\"], [1.0, \"#f0f921\"]], \"type\": \"contour\"}], \"contourcarpet\": [{\"colorbar\": {\"outlinewidth\": 0, \"ticks\": \"\"}, \"type\": \"contourcarpet\"}], \"heatmap\": [{\"colorbar\": {\"outlinewidth\": 0, \"ticks\": \"\"}, \"colorscale\": [[0.0, \"#0d0887\"], [0.1111111111111111, \"#46039f\"], [0.2222222222222222, \"#7201a8\"], [0.3333333333333333, \"#9c179e\"], [0.4444444444444444, \"#bd3786\"], [0.5555555555555556, \"#d8576b\"], [0.6666666666666666, \"#ed7953\"], [0.7777777777777778, \"#fb9f3a\"], [0.8888888888888888, \"#fdca26\"], [1.0, \"#f0f921\"]], \"type\": \"heatmap\"}], \"heatmapgl\": [{\"colorbar\": {\"outlinewidth\": 0, \"ticks\": \"\"}, \"colorscale\": [[0.0, \"#0d0887\"], [0.1111111111111111, \"#46039f\"], [0.2222222222222222, \"#7201a8\"], [0.3333333333333333, \"#9c179e\"], [0.4444444444444444, \"#bd3786\"], [0.5555555555555556, \"#d8576b\"], [0.6666666666666666, \"#ed7953\"], [0.7777777777777778, \"#fb9f3a\"], [0.8888888888888888, \"#fdca26\"], [1.0, \"#f0f921\"]], \"type\": \"heatmapgl\"}], \"histogram\": [{\"marker\": {\"colorbar\": {\"outlinewidth\": 0, \"ticks\": \"\"}}, \"type\": \"histogram\"}], \"histogram2d\": [{\"colorbar\": {\"outlinewidth\": 0, \"ticks\": \"\"}, \"colorscale\": [[0.0, \"#0d0887\"], [0.1111111111111111, \"#46039f\"], [0.2222222222222222, \"#7201a8\"], [0.3333333333333333, \"#9c179e\"], [0.4444444444444444, \"#bd3786\"], [0.5555555555555556, \"#d8576b\"], [0.6666666666666666, \"#ed7953\"], [0.7777777777777778, \"#fb9f3a\"], [0.8888888888888888, \"#fdca26\"], [1.0, \"#f0f921\"]], \"type\": \"histogram2d\"}], \"histogram2dcontour\": [{\"colorbar\": {\"outlinewidth\": 0, \"ticks\": \"\"}, \"colorscale\": [[0.0, \"#0d0887\"], [0.1111111111111111, \"#46039f\"], [0.2222222222222222, \"#7201a8\"], [0.3333333333333333, \"#9c179e\"], [0.4444444444444444, \"#bd3786\"], [0.5555555555555556, \"#d8576b\"], [0.6666666666666666, \"#ed7953\"], [0.7777777777777778, \"#fb9f3a\"], [0.8888888888888888, \"#fdca26\"], [1.0, \"#f0f921\"]], \"type\": \"histogram2dcontour\"}], \"mesh3d\": [{\"colorbar\": {\"outlinewidth\": 0, \"ticks\": \"\"}, \"type\": \"mesh3d\"}], \"parcoords\": [{\"line\": {\"colorbar\": {\"outlinewidth\": 0, \"ticks\": \"\"}}, \"type\": \"parcoords\"}], \"pie\": [{\"automargin\": true, \"type\": \"pie\"}], \"scatter\": [{\"marker\": {\"colorbar\": {\"outlinewidth\": 0, \"ticks\": \"\"}}, \"type\": \"scatter\"}], \"scatter3d\": [{\"line\": {\"colorbar\": {\"outlinewidth\": 0, \"ticks\": \"\"}}, \"marker\": {\"colorbar\": {\"outlinewidth\": 0, \"ticks\": \"\"}}, \"type\": \"scatter3d\"}], \"scattercarpet\": [{\"marker\": {\"colorbar\": {\"outlinewidth\": 0, \"ticks\": \"\"}}, \"type\": \"scattercarpet\"}], \"scattergeo\": [{\"marker\": {\"colorbar\": {\"outlinewidth\": 0, \"ticks\": \"\"}}, \"type\": \"scattergeo\"}], \"scattergl\": [{\"marker\": {\"colorbar\": {\"outlinewidth\": 0, \"ticks\": \"\"}}, \"type\": \"scattergl\"}], \"scattermapbox\": [{\"marker\": {\"colorbar\": {\"outlinewidth\": 0, \"ticks\": \"\"}}, \"type\": \"scattermapbox\"}], \"scatterpolar\": [{\"marker\": {\"colorbar\": {\"outlinewidth\": 0, \"ticks\": \"\"}}, \"type\": \"scatterpolar\"}], \"scatterpolargl\": [{\"marker\": {\"colorbar\": {\"outlinewidth\": 0, \"ticks\": \"\"}}, \"type\": \"scatterpolargl\"}], \"scatterternary\": [{\"marker\": {\"colorbar\": {\"outlinewidth\": 0, \"ticks\": \"\"}}, \"type\": \"scatterternary\"}], \"surface\": [{\"colorbar\": {\"outlinewidth\": 0, \"ticks\": \"\"}, \"colorscale\": [[0.0, \"#0d0887\"], [0.1111111111111111, \"#46039f\"], [0.2222222222222222, \"#7201a8\"], [0.3333333333333333, \"#9c179e\"], [0.4444444444444444, \"#bd3786\"], [0.5555555555555556, \"#d8576b\"], [0.6666666666666666, \"#ed7953\"], [0.7777777777777778, \"#fb9f3a\"], [0.8888888888888888, \"#fdca26\"], [1.0, \"#f0f921\"]], \"type\": \"surface\"}], \"table\": [{\"cells\": {\"fill\": {\"color\": \"#EBF0F8\"}, \"line\": {\"color\": \"white\"}}, \"header\": {\"fill\": {\"color\": \"#C8D4E3\"}, \"line\": {\"color\": \"white\"}}, \"type\": \"table\"}]}, \"layout\": {\"annotationdefaults\": {\"arrowcolor\": \"#2a3f5f\", \"arrowhead\": 0, \"arrowwidth\": 1}, \"autotypenumbers\": \"strict\", \"coloraxis\": {\"colorbar\": {\"outlinewidth\": 0, \"ticks\": \"\"}}, \"colorscale\": {\"diverging\": [[0, \"#8e0152\"], [0.1, \"#c51b7d\"], [0.2, \"#de77ae\"], [0.3, \"#f1b6da\"], [0.4, \"#fde0ef\"], [0.5, \"#f7f7f7\"], [0.6, \"#e6f5d0\"], [0.7, \"#b8e186\"], [0.8, \"#7fbc41\"], [0.9, \"#4d9221\"], [1, \"#276419\"]], \"sequential\": [[0.0, \"#0d0887\"], [0.1111111111111111, \"#46039f\"], [0.2222222222222222, \"#7201a8\"], [0.3333333333333333, \"#9c179e\"], [0.4444444444444444, \"#bd3786\"], [0.5555555555555556, \"#d8576b\"], [0.6666666666666666, \"#ed7953\"], [0.7777777777777778, \"#fb9f3a\"], [0.8888888888888888, \"#fdca26\"], [1.0, \"#f0f921\"]], \"sequentialminus\": [[0.0, \"#0d0887\"], [0.1111111111111111, \"#46039f\"], [0.2222222222222222, \"#7201a8\"], [0.3333333333333333, \"#9c179e\"], [0.4444444444444444, \"#bd3786\"], [0.5555555555555556, \"#d8576b\"], [0.6666666666666666, \"#ed7953\"], [0.7777777777777778, \"#fb9f3a\"], [0.8888888888888888, \"#fdca26\"], [1.0, \"#f0f921\"]]}, \"colorway\": [\"#636efa\", \"#EF553B\", \"#00cc96\", \"#ab63fa\", \"#FFA15A\", \"#19d3f3\", \"#FF6692\", \"#B6E880\", \"#FF97FF\", \"#FECB52\"], \"font\": {\"color\": \"#2a3f5f\"}, \"geo\": {\"bgcolor\": \"white\", \"lakecolor\": \"white\", \"landcolor\": \"#E5ECF6\", \"showlakes\": true, \"showland\": true, \"subunitcolor\": \"white\"}, \"hoverlabel\": {\"align\": \"left\"}, \"hovermode\": \"closest\", \"mapbox\": {\"style\": \"light\"}, \"paper_bgcolor\": \"white\", \"plot_bgcolor\": \"#E5ECF6\", \"polar\": {\"angularaxis\": {\"gridcolor\": \"white\", \"linecolor\": \"white\", \"ticks\": \"\"}, \"bgcolor\": \"#E5ECF6\", \"radialaxis\": {\"gridcolor\": \"white\", \"linecolor\": \"white\", \"ticks\": \"\"}}, \"scene\": {\"xaxis\": {\"backgroundcolor\": \"#E5ECF6\", \"gridcolor\": \"white\", \"gridwidth\": 2, \"linecolor\": \"white\", \"showbackground\": true, \"ticks\": \"\", \"zerolinecolor\": \"white\"}, \"yaxis\": {\"backgroundcolor\": \"#E5ECF6\", \"gridcolor\": \"white\", \"gridwidth\": 2, \"linecolor\": \"white\", \"showbackground\": true, \"ticks\": \"\", \"zerolinecolor\": \"white\"}, \"zaxis\": {\"backgroundcolor\": \"#E5ECF6\", \"gridcolor\": \"white\", \"gridwidth\": 2, \"linecolor\": \"white\", \"showbackground\": true, \"ticks\": \"\", \"zerolinecolor\": \"white\"}}, \"shapedefaults\": {\"line\": {\"color\": \"#2a3f5f\"}}, \"ternary\": {\"aaxis\": {\"gridcolor\": \"white\", \"linecolor\": \"white\", \"ticks\": \"\"}, \"baxis\": {\"gridcolor\": \"white\", \"linecolor\": \"white\", \"ticks\": \"\"}, \"bgcolor\": \"#E5ECF6\", \"caxis\": {\"gridcolor\": \"white\", \"linecolor\": \"white\", \"ticks\": \"\"}}, \"title\": {\"x\": 0.05}, \"xaxis\": {\"automargin\": true, \"gridcolor\": \"white\", \"linecolor\": \"white\", \"ticks\": \"\", \"title\": {\"standoff\": 15}, \"zerolinecolor\": \"white\", \"zerolinewidth\": 2}, \"yaxis\": {\"automargin\": true, \"gridcolor\": \"white\", \"linecolor\": \"white\", \"ticks\": \"\", \"title\": {\"standoff\": 15}, \"zerolinecolor\": \"white\", \"zerolinewidth\": 2}}}, \"title\": {\"text\": \"Data Science Job Posting Locations in 2020\"}},                        {\"responsive\": true}                    ).then(function(){\n",
       "                            \n",
       "var gd = document.getElementById('e9b3277d-7b63-4f98-94f5-8cc26b0e068b');\n",
       "var x = new MutationObserver(function (mutations, observer) {{\n",
       "        var display = window.getComputedStyle(gd).display;\n",
       "        if (!display || display === 'none') {{\n",
       "            console.log([gd, 'removed!']);\n",
       "            Plotly.purge(gd);\n",
       "            observer.disconnect();\n",
       "        }}\n",
       "}});\n",
       "\n",
       "// Listen for the removal of the full notebook cells\n",
       "var notebookContainer = gd.closest('#notebook-container');\n",
       "if (notebookContainer) {{\n",
       "    x.observe(notebookContainer, {childList: true});\n",
       "}}\n",
       "\n",
       "// Listen for the clearing of the current output cell\n",
       "var outputEl = gd.closest('.output');\n",
       "if (outputEl) {{\n",
       "    x.observe(outputEl, {childList: true});\n",
       "}}\n",
       "\n",
       "                        })                };                });            </script>        </div>"
      ]
     },
     "metadata": {},
     "output_type": "display_data"
    }
   ],
   "source": [
    "fig = px.scatter_mapbox(\n",
    "    df_1, lat=\"Lat\", lon=\"Long_\",\n",
    "    color=\"Postings\",\n",
    "    size=\"Postings\",\n",
    "    color_continuous_scale=px.colors.sequential.Jet,\n",
    "    size_max=40,\n",
    "    zoom=3, \n",
    "    center={\"lat\": 37.0902, \"lon\": -95.7129},              \n",
    "    hover_name='Location'\n",
    ")\n",
    "\n",
    "fig.update_layout(\n",
    "    title= 'Data Science Job Posting Locations in 2020')\n",
    "\n",
    "fig.show()"
   ]
  },
  {
   "cell_type": "code",
   "execution_count": 31,
   "id": "bottom-appendix",
   "metadata": {},
   "outputs": [
    {
     "data": {
      "text/plain": [
       "'https://plotly.com/~brittanyaylia/1/'"
      ]
     },
     "execution_count": 31,
     "metadata": {},
     "output_type": "execute_result"
    }
   ],
   "source": [
    "py.plot(fig, filename = 'data science job map', auto_open=True)"
   ]
  }
 ],
 "metadata": {
  "kernelspec": {
   "display_name": "Python [conda env:PythonData] *",
   "language": "python",
   "name": "conda-env-PythonData-py"
  },
  "language_info": {
   "codemirror_mode": {
    "name": "ipython",
    "version": 3
   },
   "file_extension": ".py",
   "mimetype": "text/x-python",
   "name": "python",
   "nbconvert_exporter": "python",
   "pygments_lexer": "ipython3",
   "version": "3.6.10"
  }
 },
 "nbformat": 4,
 "nbformat_minor": 5
}
